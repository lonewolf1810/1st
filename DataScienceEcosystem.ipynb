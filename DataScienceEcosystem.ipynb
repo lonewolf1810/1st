{
 "cells": [
  {
   "cell_type": "markdown",
   "id": "fc086bc2-678b-4f70-8055-76876fef250e",
   "metadata": {},
   "source": [
    "# Data Science Tools and Ecosystem"
   ]
  },
  {
   "cell_type": "markdown",
   "id": "312cbb90-c55a-4673-bc81-bcf757298432",
   "metadata": {},
   "source": [
    "***In this notebook, Data Science Tools and Ecosystem are summarized.***"
   ]
  },
  {
   "cell_type": "markdown",
   "id": "89bf7f74-af1b-4100-9066-0911970ea447",
   "metadata": {},
   "source": [
    "**Objectives:**\n",
    "- popular languages for Data Science\n",
    "- common libraries for Data Science\n",
    "- Data Science tools\n",
    "- arithmetic expressions"
   ]
  },
  {
   "cell_type": "markdown",
   "id": "4c762423-8a5c-44af-b41f-7f2687976865",
   "metadata": {},
   "source": [
    "_Some of the popular languages that Data Scientists use are:_"
   ]
  },
  {
   "cell_type": "markdown",
   "id": "f21b9e68-f509-436c-a49f-22dc779e5f5d",
   "metadata": {},
   "source": [
    "1. Python\n",
    "2. R\n",
    "3. SQL\n",
    "4. java"
   ]
  },
  {
   "cell_type": "markdown",
   "id": "4bbf18df-9a09-4cf9-bb70-7c51272842f1",
   "metadata": {},
   "source": [
    "_Some of the commonly used libraries used by Data Scientists include:_"
   ]
  },
  {
   "cell_type": "markdown",
   "id": "22832880-5fed-4c24-af89-907362163c83",
   "metadata": {},
   "source": [
    "1. NumPy\n",
    "2. pandas\n",
    "3. matplotlib\n",
    "4. Seaborn\n"
   ]
  },
  {
   "cell_type": "markdown",
   "id": "26d54734-0ca9-438e-befe-517897835b75",
   "metadata": {},
   "source": [
    "| Data Science Tools |\n",
    "| ------------------ |\n",
    "| Jupyter Notebooks |\n",
    "| RStudio |\n",
    "| Visual Studio Code (VS Code) |"
   ]
  },
  {
   "cell_type": "markdown",
   "id": "9970b7f1-14ce-44d9-a010-2e7cc4b8bb45",
   "metadata": {},
   "source": [
    "### Below are a few examples of evaluating arithmetic expressions in Python"
   ]
  },
  {
   "cell_type": "code",
   "execution_count": 3,
   "id": "60dba759-68e7-438d-b85e-7221f1e52a5c",
   "metadata": {},
   "outputs": [
    {
     "data": {
      "text/plain": [
       "17"
      ]
     },
     "execution_count": 3,
     "metadata": {},
     "output_type": "execute_result"
    }
   ],
   "source": [
    "#This a simple arithmetic expression to mutiply then add integers\n",
    "(3*4)+5"
   ]
  },
  {
   "cell_type": "code",
   "execution_count": 4,
   "id": "7659976f-7abc-4c30-9359-195b5b7a755a",
   "metadata": {},
   "outputs": [
    {
     "name": "stdout",
     "output_type": "stream",
     "text": [
      "200 minutes is equal to 3.3333333333333335 hours.\n"
     ]
    }
   ],
   "source": [
    "print(\"200 minutes is equal to\", 200/60 , \"hours.\")\n"
   ]
  },
  {
   "cell_type": "markdown",
   "id": "3781bb0b-c17e-4e4f-ae78-9f62ae88a6ac",
   "metadata": {},
   "source": [
    "## Author\n",
    "rahul arya"
   ]
  }
 ],
 "metadata": {
  "kernelspec": {
   "display_name": "Python 3 (ipykernel)",
   "language": "python",
   "name": "python3"
  },
  "language_info": {
   "codemirror_mode": {
    "name": "ipython",
    "version": 3
   },
   "file_extension": ".py",
   "mimetype": "text/x-python",
   "name": "python",
   "nbconvert_exporter": "python",
   "pygments_lexer": "ipython3",
   "version": "3.12.3"
  }
 },
 "nbformat": 4,
 "nbformat_minor": 5
}
